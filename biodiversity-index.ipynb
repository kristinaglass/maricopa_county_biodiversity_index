{
 "cells": [
  {
   "cell_type": "markdown",
   "id": "166af27f-0819-4a93-b663-44a18111c170",
   "metadata": {},
   "source": [
    "# Biodiversity Intactness Index Change in Phoenix Subdivision \n",
    "Author: Kristina Glass\n",
    "\n",
    "Link to repository: https://github.com/kristinaglass/maricopa_county_biodiversity_index"
   ]
  },
  {
   "cell_type": "markdown",
   "id": "5522eab2-efe3-4172-bb7a-3fc1473d7b5d",
   "metadata": {},
   "source": [
    "# About\n",
    "\n",
    "## Purpose\n",
    "\n",
    "## Highlights of Analysis\n",
    "\n",
    "## Data Description\n",
    "\n",
    "## References"
   ]
  },
  {
   "cell_type": "markdown",
   "id": "d4179afe-63cf-46fc-8d2e-af81e7fdc3e3",
   "metadata": {},
   "source": [
    "# 1. Importing Data"
   ]
  },
  {
   "cell_type": "markdown",
   "id": "5cabedc4-8784-42aa-a02a-af4691df2698",
   "metadata": {},
   "source": [
    "# 2. Geographical Context"
   ]
  },
  {
   "cell_type": "markdown",
   "id": "750a8547-9f66-4b3c-ad22-9e7f7b372366",
   "metadata": {},
   "source": [
    "# 3. Analysis"
   ]
  },
  {
   "cell_type": "markdown",
   "id": "ed19ad25-7459-4347-8de4-64c407b64900",
   "metadata": {},
   "source": [
    "# 4. Final Output"
   ]
  }
 ],
 "metadata": {
  "kernelspec": {
   "display_name": "Python 3 (ipykernel)",
   "language": "python",
   "name": "python3"
  },
  "language_info": {
   "codemirror_mode": {
    "name": "ipython",
    "version": 3
   },
   "file_extension": ".py",
   "mimetype": "text/x-python",
   "name": "python",
   "nbconvert_exporter": "python",
   "pygments_lexer": "ipython3",
   "version": "3.11.0"
  }
 },
 "nbformat": 4,
 "nbformat_minor": 5
}
