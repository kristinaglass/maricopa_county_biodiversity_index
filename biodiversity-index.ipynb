{
 "cells": [
  {
   "cell_type": "markdown",
   "id": "166af27f-0819-4a93-b663-44a18111c170",
   "metadata": {},
   "source": [
    "# Biodiversity Intactness Index Change in Phoenix Subdivision \n",
    "Author: Kristina Glass\n",
    "\n",
    "Link to repository: https://github.com/kristinaglass/maricopa_county_biodiversity_index"
   ]
  },
  {
   "cell_type": "markdown",
   "id": "5522eab2-efe3-4172-bb7a-3fc1473d7b5d",
   "metadata": {},
   "source": [
    "# About\n",
    "\n",
    "## Purpose\n",
    "\n",
    "The purpose of this exploration is to find the changes in the Biodiversity Intactness Index around the Phoenex area from 2017 - 2020 [2](https://ai4edatasetspublicassets.blob.core.windows.net/assets/pdfs/io-biodiversity/Biodiversity_Intactness_whitepaper.pdf)\n",
    "\n",
    "## Data Description\n",
    "\n",
    "The datasets used include:\n",
    "- [The Biodiversity STAC Collection accessed from the Microsoft Planetary Computer](https://planetarycomputer.microsoft.com/dataset/io-biodiversity).\n",
    "This dataset is build on pasts datasets of spatially referenced biodiversity observations 32,000 sites from over 750 studies. The two metrics that make up Biodiversity Intactness include: Abundance (quantity of individuals) and Compositional Similarity (the similarity between the current composition of species and their intact baseline).\n",
    "- [Arizona 2022 Tiger Line Shapefile accessed from the US Census Bureau](https://www.census.gov/cgi-bin/geo/shapefiles/index.php?year=2022&layergroup=County+Subdivisions)\n",
    "This dataset will be subset to identify the Phoenix subdivision within Maricopa County\n",
    "\n",
    "## Highlights of Analysis\n",
    "\n",
    "- 2. Geographic Context\n",
    "- 4. Analysis\n",
    "- 5. Final Output\n",
    "\n",
    "## References\n",
    "\n",
    "Microsoft Planetary Computer (2023). Biodiversity Intactness Index STAC Collection [Data Set]. Retrieved from https://planetarycomputer.microsoft.com/api/stac/v1/collections/io-biodiversity\n",
    "\n",
    "US Census Bureau, 2022 TIGER/Line® Shapefiles: County Subdivisions (2022). Arizona [Data file]. Retrieved from https://www.census.gov/cgi-bin/geo/shapefiles/index.php?year=2022&layergroup=County+Subdivisions\n"
   ]
  },
  {
   "cell_type": "markdown",
   "id": "d4179afe-63cf-46fc-8d2e-af81e7fdc3e3",
   "metadata": {},
   "source": [
    "## 1. Importing Data and Loading Datatsets\n",
    "\n",
    "To load in the BII data, it must be access from the STAC Catelog. To import te correct dataset, having the correct coordinates and time frame for the data is necessary"
   ]
  },
  {
   "cell_type": "code",
   "execution_count": 1,
   "id": "29e2508b-4976-4706-bf34-cc8e89ed6177",
   "metadata": {},
   "outputs": [],
   "source": [
    "# Import Necessary Datasets\n",
    "\n",
    "import numpy as np\n",
    "import pandas as pd\n",
    "import geopandas as gpd\n",
    "import rioxarray as rioxr\n",
    "import matplotlib.pyplot as plt\n",
    "import matplotlib.patches as mpatches\n",
    "\n",
    "from shapely.geometry import Polygon\n",
    "\n",
    "# for MPC's STAC catalog search\n",
    "import pystac_client\n",
    "# used to sign items from the MPC STAC catalog\n",
    "import planetary_computer\n",
    "\n",
    "import contextily as ctx #for adding basemaps\n",
    "\n",
    "#libraries for nice ouputs\n",
    "from IPython.display import Image"
   ]
  },
  {
   "cell_type": "code",
   "execution_count": 3,
   "id": "fb7712db-ebc8-47c9-a6b2-336df1274aef",
   "metadata": {
    "tags": []
   },
   "outputs": [
    {
     "ename": "APIError",
     "evalue": "{\"code\":\"NotFoundError\",\"description\":\"No collection with id 'landsat-8-c2-l2' found!\"}",
     "output_type": "error",
     "traceback": [
      "\u001b[0;31m---------------------------------------------------------------------------\u001b[0m",
      "\u001b[0;31mAPIError\u001b[0m                                  Traceback (most recent call last)",
      "Cell \u001b[0;32mIn[3], line 22\u001b[0m\n\u001b[1;32m     19\u001b[0m items_2017 \u001b[38;5;241m=\u001b[39m search_2017\u001b[38;5;241m.\u001b[39mitem_collection()\n\u001b[1;32m     21\u001b[0m \u001b[38;5;66;03m#check collection asset\u001b[39;00m\n\u001b[0;32m---> 22\u001b[0m biodiversity_collection_2017 \u001b[38;5;241m=\u001b[39m \u001b[43mcatalog\u001b[49m\u001b[38;5;241;43m.\u001b[39;49m\u001b[43mget_child\u001b[49m\u001b[43m(\u001b[49m\u001b[38;5;124;43m'\u001b[39;49m\u001b[38;5;124;43mio-biodiversity\u001b[39;49m\u001b[38;5;124;43m'\u001b[39;49m\u001b[43m)\u001b[49m\n\u001b[1;32m     24\u001b[0m \u001b[38;5;66;03m#check asset of item\u001b[39;00m\n\u001b[1;32m     25\u001b[0m item_2017 \u001b[38;5;241m=\u001b[39m items_2017[\u001b[38;5;241m0\u001b[39m]\n",
      "File \u001b[0;32m/srv/conda/envs/notebook/lib/python3.11/site-packages/pystac/catalog.py:353\u001b[0m, in \u001b[0;36mCatalog.get_child\u001b[0;34m(self, id, recursive)\u001b[0m\n\u001b[1;32m    340\u001b[0m \u001b[38;5;250m\u001b[39m\u001b[38;5;124;03m\"\"\"Gets the child of this catalog with the given ID, if it exists.\u001b[39;00m\n\u001b[1;32m    341\u001b[0m \n\u001b[1;32m    342\u001b[0m \u001b[38;5;124;03mArgs:\u001b[39;00m\n\u001b[0;32m   (...)\u001b[0m\n\u001b[1;32m    350\u001b[0m \u001b[38;5;124;03m    or None if not found.\u001b[39;00m\n\u001b[1;32m    351\u001b[0m \u001b[38;5;124;03m\"\"\"\u001b[39;00m\n\u001b[1;32m    352\u001b[0m \u001b[38;5;28;01mif\u001b[39;00m \u001b[38;5;129;01mnot\u001b[39;00m recursive:\n\u001b[0;32m--> 353\u001b[0m     \u001b[38;5;28;01mreturn\u001b[39;00m \u001b[38;5;28;43mnext\u001b[39;49m\u001b[43m(\u001b[49m\u001b[43m(\u001b[49m\u001b[43mc\u001b[49m\u001b[43m \u001b[49m\u001b[38;5;28;43;01mfor\u001b[39;49;00m\u001b[43m \u001b[49m\u001b[43mc\u001b[49m\u001b[43m \u001b[49m\u001b[38;5;129;43;01min\u001b[39;49;00m\u001b[43m \u001b[49m\u001b[38;5;28;43mself\u001b[39;49m\u001b[38;5;241;43m.\u001b[39;49m\u001b[43mget_children\u001b[49m\u001b[43m(\u001b[49m\u001b[43m)\u001b[49m\u001b[43m \u001b[49m\u001b[38;5;28;43;01mif\u001b[39;49;00m\u001b[43m \u001b[49m\u001b[43mc\u001b[49m\u001b[38;5;241;43m.\u001b[39;49m\u001b[43mid\u001b[49m\u001b[43m \u001b[49m\u001b[38;5;241;43m==\u001b[39;49m\u001b[43m \u001b[49m\u001b[38;5;28;43mid\u001b[39;49m\u001b[43m)\u001b[49m\u001b[43m,\u001b[49m\u001b[43m \u001b[49m\u001b[38;5;28;43;01mNone\u001b[39;49;00m\u001b[43m)\u001b[49m\n\u001b[1;32m    354\u001b[0m \u001b[38;5;28;01melse\u001b[39;00m:\n\u001b[1;32m    355\u001b[0m     \u001b[38;5;28;01mfor\u001b[39;00m root, _, _ \u001b[38;5;129;01min\u001b[39;00m \u001b[38;5;28mself\u001b[39m\u001b[38;5;241m.\u001b[39mwalk():\n",
      "File \u001b[0;32m/srv/conda/envs/notebook/lib/python3.11/site-packages/pystac/catalog.py:353\u001b[0m, in \u001b[0;36m<genexpr>\u001b[0;34m(.0)\u001b[0m\n\u001b[1;32m    340\u001b[0m \u001b[38;5;250m\u001b[39m\u001b[38;5;124;03m\"\"\"Gets the child of this catalog with the given ID, if it exists.\u001b[39;00m\n\u001b[1;32m    341\u001b[0m \n\u001b[1;32m    342\u001b[0m \u001b[38;5;124;03mArgs:\u001b[39;00m\n\u001b[0;32m   (...)\u001b[0m\n\u001b[1;32m    350\u001b[0m \u001b[38;5;124;03m    or None if not found.\u001b[39;00m\n\u001b[1;32m    351\u001b[0m \u001b[38;5;124;03m\"\"\"\u001b[39;00m\n\u001b[1;32m    352\u001b[0m \u001b[38;5;28;01mif\u001b[39;00m \u001b[38;5;129;01mnot\u001b[39;00m recursive:\n\u001b[0;32m--> 353\u001b[0m     \u001b[38;5;28;01mreturn\u001b[39;00m \u001b[38;5;28mnext\u001b[39m((c \u001b[38;5;28;01mfor\u001b[39;00m c \u001b[38;5;129;01min\u001b[39;00m \u001b[38;5;28mself\u001b[39m\u001b[38;5;241m.\u001b[39mget_children() \u001b[38;5;28;01mif\u001b[39;00m c\u001b[38;5;241m.\u001b[39mid \u001b[38;5;241m==\u001b[39m \u001b[38;5;28mid\u001b[39m), \u001b[38;5;28;01mNone\u001b[39;00m)\n\u001b[1;32m    354\u001b[0m \u001b[38;5;28;01melse\u001b[39;00m:\n\u001b[1;32m    355\u001b[0m     \u001b[38;5;28;01mfor\u001b[39;00m root, _, _ \u001b[38;5;129;01min\u001b[39;00m \u001b[38;5;28mself\u001b[39m\u001b[38;5;241m.\u001b[39mwalk():\n",
      "File \u001b[0;32m/srv/conda/envs/notebook/lib/python3.11/site-packages/pystac/stac_object.py:369\u001b[0m, in \u001b[0;36mSTACObject.get_stac_objects\u001b[0;34m(self, rel, typ)\u001b[0m\n\u001b[1;32m    367\u001b[0m link \u001b[38;5;241m=\u001b[39m links[i]\n\u001b[1;32m    368\u001b[0m \u001b[38;5;28;01mif\u001b[39;00m link\u001b[38;5;241m.\u001b[39mrel \u001b[38;5;241m==\u001b[39m rel:\n\u001b[0;32m--> 369\u001b[0m     \u001b[43mlink\u001b[49m\u001b[38;5;241;43m.\u001b[39;49m\u001b[43mresolve_stac_object\u001b[49m\u001b[43m(\u001b[49m\u001b[43mroot\u001b[49m\u001b[38;5;241;43m=\u001b[39;49m\u001b[38;5;28;43mself\u001b[39;49m\u001b[38;5;241;43m.\u001b[39;49m\u001b[43mget_root\u001b[49m\u001b[43m(\u001b[49m\u001b[43m)\u001b[49m\u001b[43m)\u001b[49m\n\u001b[1;32m    370\u001b[0m     \u001b[38;5;28;01mif\u001b[39;00m typ \u001b[38;5;129;01mis\u001b[39;00m \u001b[38;5;28;01mNone\u001b[39;00m \u001b[38;5;129;01mor\u001b[39;00m \u001b[38;5;28misinstance\u001b[39m(link\u001b[38;5;241m.\u001b[39mtarget, typ):\n\u001b[1;32m    371\u001b[0m         \u001b[38;5;28;01myield\u001b[39;00m cast(STACObject, link\u001b[38;5;241m.\u001b[39mtarget)\n",
      "File \u001b[0;32m/srv/conda/envs/notebook/lib/python3.11/site-packages/pystac/link.py:322\u001b[0m, in \u001b[0;36mLink.resolve_stac_object\u001b[0;34m(self, root)\u001b[0m\n\u001b[1;32m    319\u001b[0m     \u001b[38;5;28;01mif\u001b[39;00m stac_io \u001b[38;5;129;01mis\u001b[39;00m \u001b[38;5;28;01mNone\u001b[39;00m:\n\u001b[1;32m    320\u001b[0m         stac_io \u001b[38;5;241m=\u001b[39m pystac\u001b[38;5;241m.\u001b[39mStacIO\u001b[38;5;241m.\u001b[39mdefault()\n\u001b[0;32m--> 322\u001b[0m obj \u001b[38;5;241m=\u001b[39m \u001b[43mstac_io\u001b[49m\u001b[38;5;241;43m.\u001b[39;49m\u001b[43mread_stac_object\u001b[49m\u001b[43m(\u001b[49m\u001b[43mtarget_href\u001b[49m\u001b[43m,\u001b[49m\u001b[43m \u001b[49m\u001b[43mroot\u001b[49m\u001b[38;5;241;43m=\u001b[39;49m\u001b[43mroot\u001b[49m\u001b[43m)\u001b[49m\n\u001b[1;32m    323\u001b[0m obj\u001b[38;5;241m.\u001b[39mset_self_href(target_href)\n\u001b[1;32m    324\u001b[0m \u001b[38;5;28;01mif\u001b[39;00m root \u001b[38;5;129;01mis\u001b[39;00m \u001b[38;5;129;01mnot\u001b[39;00m \u001b[38;5;28;01mNone\u001b[39;00m:\n",
      "File \u001b[0;32m/srv/conda/envs/notebook/lib/python3.11/site-packages/pystac/stac_io.py:231\u001b[0m, in \u001b[0;36mStacIO.read_stac_object\u001b[0;34m(self, source, root, *args, **kwargs)\u001b[0m\n\u001b[1;32m    205\u001b[0m \u001b[38;5;28;01mdef\u001b[39;00m \u001b[38;5;21mread_stac_object\u001b[39m(\n\u001b[1;32m    206\u001b[0m     \u001b[38;5;28mself\u001b[39m,\n\u001b[1;32m    207\u001b[0m     source: HREF,\n\u001b[0;32m   (...)\u001b[0m\n\u001b[1;32m    210\u001b[0m     \u001b[38;5;241m*\u001b[39m\u001b[38;5;241m*\u001b[39mkwargs: Any,\n\u001b[1;32m    211\u001b[0m ) \u001b[38;5;241m-\u001b[39m\u001b[38;5;241m>\u001b[39m STACObject:\n\u001b[1;32m    212\u001b[0m \u001b[38;5;250m    \u001b[39m\u001b[38;5;124;03m\"\"\"Read a STACObject from a JSON file at the given source.\u001b[39;00m\n\u001b[1;32m    213\u001b[0m \n\u001b[1;32m    214\u001b[0m \u001b[38;5;124;03m    See :func:`StacIO.read_text <pystac.StacIO.read_text>` for usage of\u001b[39;00m\n\u001b[0;32m   (...)\u001b[0m\n\u001b[1;32m    229\u001b[0m \u001b[38;5;124;03m        contained in the file at the given uri.\u001b[39;00m\n\u001b[1;32m    230\u001b[0m \u001b[38;5;124;03m    \"\"\"\u001b[39;00m\n\u001b[0;32m--> 231\u001b[0m     d \u001b[38;5;241m=\u001b[39m \u001b[38;5;28;43mself\u001b[39;49m\u001b[38;5;241;43m.\u001b[39;49m\u001b[43mread_json\u001b[49m\u001b[43m(\u001b[49m\u001b[43msource\u001b[49m\u001b[43m,\u001b[49m\u001b[43m \u001b[49m\u001b[38;5;241;43m*\u001b[39;49m\u001b[43margs\u001b[49m\u001b[43m,\u001b[49m\u001b[43m \u001b[49m\u001b[38;5;241;43m*\u001b[39;49m\u001b[38;5;241;43m*\u001b[39;49m\u001b[43mkwargs\u001b[49m\u001b[43m)\u001b[49m\n\u001b[1;32m    232\u001b[0m     \u001b[38;5;28;01mreturn\u001b[39;00m \u001b[38;5;28mself\u001b[39m\u001b[38;5;241m.\u001b[39mstac_object_from_dict(\n\u001b[1;32m    233\u001b[0m         d, href\u001b[38;5;241m=\u001b[39msource, root\u001b[38;5;241m=\u001b[39mroot, preserve_dict\u001b[38;5;241m=\u001b[39m\u001b[38;5;28;01mFalse\u001b[39;00m\n\u001b[1;32m    234\u001b[0m     )\n",
      "File \u001b[0;32m/srv/conda/envs/notebook/lib/python3.11/site-packages/pystac/stac_io.py:202\u001b[0m, in \u001b[0;36mStacIO.read_json\u001b[0;34m(self, source, *args, **kwargs)\u001b[0m\n\u001b[1;32m    185\u001b[0m \u001b[38;5;28;01mdef\u001b[39;00m \u001b[38;5;21mread_json\u001b[39m(\u001b[38;5;28mself\u001b[39m, source: HREF, \u001b[38;5;241m*\u001b[39margs: Any, \u001b[38;5;241m*\u001b[39m\u001b[38;5;241m*\u001b[39mkwargs: Any) \u001b[38;5;241m-\u001b[39m\u001b[38;5;241m>\u001b[39m Dict[\u001b[38;5;28mstr\u001b[39m, Any]:\n\u001b[1;32m    186\u001b[0m \u001b[38;5;250m    \u001b[39m\u001b[38;5;124;03m\"\"\"Read a dict from the given source.\u001b[39;00m\n\u001b[1;32m    187\u001b[0m \n\u001b[1;32m    188\u001b[0m \u001b[38;5;124;03m    See :func:`StacIO.read_text <pystac.StacIO.read_text>` for usage of\u001b[39;00m\n\u001b[0;32m   (...)\u001b[0m\n\u001b[1;32m    200\u001b[0m \u001b[38;5;124;03m        given source.\u001b[39;00m\n\u001b[1;32m    201\u001b[0m \u001b[38;5;124;03m    \"\"\"\u001b[39;00m\n\u001b[0;32m--> 202\u001b[0m     txt \u001b[38;5;241m=\u001b[39m \u001b[38;5;28;43mself\u001b[39;49m\u001b[38;5;241;43m.\u001b[39;49m\u001b[43mread_text\u001b[49m\u001b[43m(\u001b[49m\u001b[43msource\u001b[49m\u001b[43m,\u001b[49m\u001b[43m \u001b[49m\u001b[38;5;241;43m*\u001b[39;49m\u001b[43margs\u001b[49m\u001b[43m,\u001b[49m\u001b[43m \u001b[49m\u001b[38;5;241;43m*\u001b[39;49m\u001b[38;5;241;43m*\u001b[39;49m\u001b[43mkwargs\u001b[49m\u001b[43m)\u001b[49m\n\u001b[1;32m    203\u001b[0m     \u001b[38;5;28;01mreturn\u001b[39;00m \u001b[38;5;28mself\u001b[39m\u001b[38;5;241m.\u001b[39mjson_loads(txt)\n",
      "File \u001b[0;32m/srv/conda/envs/notebook/lib/python3.11/site-packages/pystac_client/stac_api_io.py:167\u001b[0m, in \u001b[0;36mStacApiIO.read_text\u001b[0;34m(self, source, *args, **kwargs)\u001b[0m\n\u001b[1;32m    165\u001b[0m href \u001b[38;5;241m=\u001b[39m \u001b[38;5;28mstr\u001b[39m(source)\n\u001b[1;32m    166\u001b[0m \u001b[38;5;28;01mif\u001b[39;00m _is_url(href):\n\u001b[0;32m--> 167\u001b[0m     \u001b[38;5;28;01mreturn\u001b[39;00m \u001b[38;5;28;43mself\u001b[39;49m\u001b[38;5;241;43m.\u001b[39;49m\u001b[43mrequest\u001b[49m\u001b[43m(\u001b[49m\u001b[43mhref\u001b[49m\u001b[43m,\u001b[49m\u001b[43m \u001b[49m\u001b[38;5;241;43m*\u001b[39;49m\u001b[43margs\u001b[49m\u001b[43m,\u001b[49m\u001b[43m \u001b[49m\u001b[38;5;241;43m*\u001b[39;49m\u001b[38;5;241;43m*\u001b[39;49m\u001b[43mkwargs\u001b[49m\u001b[43m)\u001b[49m\n\u001b[1;32m    168\u001b[0m \u001b[38;5;28;01melse\u001b[39;00m:\n\u001b[1;32m    169\u001b[0m     \u001b[38;5;28;01mwith\u001b[39;00m \u001b[38;5;28mopen\u001b[39m(href) \u001b[38;5;28;01mas\u001b[39;00m f:\n",
      "File \u001b[0;32m/srv/conda/envs/notebook/lib/python3.11/site-packages/pystac_client/stac_api_io.py:216\u001b[0m, in \u001b[0;36mStacApiIO.request\u001b[0;34m(self, href, method, headers, parameters)\u001b[0m\n\u001b[1;32m    214\u001b[0m     \u001b[38;5;28;01mraise\u001b[39;00m APIError(\u001b[38;5;28mstr\u001b[39m(err))\n\u001b[1;32m    215\u001b[0m \u001b[38;5;28;01mif\u001b[39;00m resp\u001b[38;5;241m.\u001b[39mstatus_code \u001b[38;5;241m!=\u001b[39m \u001b[38;5;241m200\u001b[39m:\n\u001b[0;32m--> 216\u001b[0m     \u001b[38;5;28;01mraise\u001b[39;00m APIError\u001b[38;5;241m.\u001b[39mfrom_response(resp)\n\u001b[1;32m    217\u001b[0m \u001b[38;5;28;01mtry\u001b[39;00m:\n\u001b[1;32m    218\u001b[0m     \u001b[38;5;28;01mreturn\u001b[39;00m resp\u001b[38;5;241m.\u001b[39mcontent\u001b[38;5;241m.\u001b[39mdecode(\u001b[38;5;124m\"\u001b[39m\u001b[38;5;124mutf-8\u001b[39m\u001b[38;5;124m\"\u001b[39m)\n",
      "\u001b[0;31mAPIError\u001b[0m: {\"code\":\"NotFoundError\",\"description\":\"No collection with id 'landsat-8-c2-l2' found!\"}"
     ]
    }
   ],
   "source": [
    "# read in data from STAC catalog\n",
    "# open catalog\n",
    "catalog = pystac_client.Client.open(\n",
    "    \"https://planetarycomputer.microsoft.com/api/stac/v1\",\n",
    "    modifier=planetary_computer.sign_inplace,\n",
    ")\n",
    "\n",
    "# coords defining bbox\n",
    "bbox = [-112.826843, 32.974108, -111.184387, 33.863574]\n",
    "\n",
    "# search \n",
    "search_2017 = catalog.search(\n",
    "    collections=[\"io-biodiversity\"], \n",
    "    bbox=bbox, \n",
    "    datetime='2017'\n",
    ")\n",
    "\n",
    "# get items from search\n",
    "items_2017 = search_2017.item_collection()\n",
    "\n",
    "#check collection asset\n",
    "biodiversity_collection_2017 = catalog.get_child('io-biodiversity')\n",
    "\n",
    "#check asset of item\n",
    "item_2017 = items_2017[0]\n",
    "\n",
    "#access raster\n",
    "bio_index_2017 = rioxr.open_rasterio(item_2017.assets['data'].href)"
   ]
  },
  {
   "cell_type": "code",
   "execution_count": null,
   "id": "4f91413d-8484-41cb-ac4e-02ce76439cfe",
   "metadata": {
    "tags": []
   },
   "outputs": [],
   "source": [
    "#access 2020 raster\n",
    "# search \n",
    "search_2020 = catalog.search(\n",
    "    collections=[\"io-biodiversity\"], \n",
    "    bbox=bbox, \n",
    "    datetime='2020'\n",
    ")\n",
    "\n",
    "# get items from search\n",
    "items_2020 = search_2020.item_collection()\n",
    "\n",
    "#check collection asset\n",
    "biodiversity_collection_2020 = catalog.get_child('io-biodiversity')\n",
    "biodiversity_collection_2020\n",
    "\n",
    "#check asset of item\n",
    "item_2020 = items_2020[0]\n",
    "item_2020.assets\n",
    "\n",
    "#access raster\n",
    "bio_index_2020 = rioxr.open_rasterio(item_2020.assets['data'].href)"
   ]
  },
  {
   "cell_type": "code",
   "execution_count": null,
   "id": "48599702-d779-41fd-83ab-3f67ec05b6d9",
   "metadata": {},
   "outputs": [],
   "source": [
    "#load in arizona counties datas\n",
    "arizona = gpd.read_file('data/tl_2022_04_cousub/tl_2022_04_cousub.shp')\n",
    "\n",
    "#-----subset to Maricopa County\n",
    "\n",
    "#use str.to.lower to make column names lowercase\n",
    "arizona.columns = arizona.columns.str.lower()\n",
    "\n",
    "#selecting Maricopa County\n",
    "phoenix = arizona[arizona['name']=='Phoenix']"
   ]
  },
  {
   "cell_type": "markdown",
   "id": "6e03f68c-29dc-4d84-8cec-f9a1fe36b02c",
   "metadata": {},
   "source": [
    "## 2. Geographic Context"
   ]
  },
  {
   "cell_type": "markdown",
   "id": "9288c634-a09e-4c49-9f3a-11ebc7fc1548",
   "metadata": {},
   "source": [
    "In 2021, Maricopa County, which encompasses the Phoenix Metropolitan area, had the most land development of any US county since 2001 [1](https://www.washingtonpost.com/nation/interactive/2021/land-development-urban-growth-maps/). The county added over 270 sq. miles of developed land which creates pressure on the areas biodiversity and natural landscape. While increased development and urbanization can be necessary to support growing populations within the area, it is important to consider the potential impacts of this expansion on the environment.\n"
   ]
  },
  {
   "cell_type": "code",
   "execution_count": null,
   "id": "be1ce071-1752-4333-85fa-3323204d3fb8",
   "metadata": {
    "tags": []
   },
   "outputs": [],
   "source": [
    "#plot geographic context of phoenix subdivision\n",
    "# create axis with plot\n",
    "ax = (phoenix.to_crs(epsg=3857) #3857 is a projected coordinate system used for rendering maps online\n",
    "      .plot(figsize=(7, 7), alpha=0.5, edgecolor=\"k\")\n",
    "      )\n",
    "\n",
    "# add basemap from contextily\n",
    "# add World Street Map basemap from Esri\n",
    "ctx.add_basemap(ax, source=ctx.providers.Esri.WorldStreetMap)"
   ]
  },
  {
   "cell_type": "markdown",
   "id": "65c3b7d3-5cde-4454-83dc-666cd87bdbc6",
   "metadata": {},
   "source": [
    "## 3. Data Exploration"
   ]
  },
  {
   "cell_type": "code",
   "execution_count": null,
   "id": "3109512e-c182-41eb-98a7-905076d23b73",
   "metadata": {
    "tags": []
   },
   "outputs": [],
   "source": [
    "#show type of bio_index\n",
    "type(bio_index_2017)\n",
    "#show values of bio_index\n",
    "bio_index_2017.values\n",
    "#print bio_index crs\n",
    "bio_index_2017.rio.crs\n",
    "\n",
    "#show type of bio_index\n",
    "type(bio_index_2020)\n",
    "#show values of bio_index\n",
    "bio_index_2020.values\n",
    "#print bio_index crs\n",
    "bio_index_2020.rio.crs\n",
    "\n",
    "#find type of phoenix dataset\n",
    "type(phoenix)\n",
    "#check values of phoenix\n",
    "phoenix.values\n",
    "#show phoenix crs\n",
    "phoenix.crs"
   ]
  },
  {
   "cell_type": "markdown",
   "id": "83ca23e4-2ca4-41fc-bc11-90cdcd7e4ddf",
   "metadata": {},
   "source": [
    "### 3.1 Data Transformation\n",
    "To accuratly clip the raster to the Phoenix polygon, they must both be in the same crs"
   ]
  },
  {
   "cell_type": "code",
   "execution_count": null,
   "id": "0b3f8fda-ac2d-46d2-8474-8da0387fca1f",
   "metadata": {
    "tags": []
   },
   "outputs": [],
   "source": [
    "#transform phoenix crs to bio_index crs\n",
    "phoenix.to_crs(crs = 4326, inplace = True)\n",
    "#confirm crs transformation\n",
    "phoenix.crs"
   ]
  },
  {
   "cell_type": "markdown",
   "id": "750a8547-9f66-4b3c-ad22-9e7f7b372366",
   "metadata": {},
   "source": [
    "# 4. Analysis\n",
    "\n",
    "The purpose of this analysis is to find how much of the BII are lays within the Phoenix subdivision as well as finding out the percentage of the raster area that has been lost since 2017. By changing the raster type to an integer, it allows us to complete the percent calculation. `Squeeze()` allows us to drop dimensions. Including `drop()` allows us to drop a specific band"
   ]
  },
  {
   "cell_type": "code",
   "execution_count": null,
   "id": "255c40d9-06a9-4190-8dc0-c6e1bfcab8db",
   "metadata": {
    "tags": []
   },
   "outputs": [],
   "source": [
    "#clip raster to fall within Phoenix Area\n",
    "clip_2017 = (bio_index_2017.rio.clip(phoenix.geometry))\n",
    "clip_2020 = (bio_index_2020.rio.clip(phoenix.geometry))\n",
    "\n",
    "#find number of pixels =>0.75 within clip\n",
    "phoenix_clip2017 = (clip_2017>=0.75)\n",
    "phoenix_clip2020 = clip_2020>=0.75\n",
    "\n",
    "#change clipped raster pixels to integers\n",
    "phoenix_clip2017_int=phoenix_clip2017.astype(int)\n",
    "phoenix_clip2020_int=phoenix_clip2020.astype(int)\n",
    "        \n",
    "#find the percentage of biodiversity area lost in 2017 and 2020\n",
    "bii_2017 = (phoenix_clip2017_int.sum()/clip_2017.count())*100\n",
    "bii_2020 = (phoenix_clip2020_int.sum()/clip_2020.count())*100\n",
    "\n",
    "#find the difference in the percentage area\n",
    "bii_subtract = (phoenix_clip2017_int-phoenix_clip2020_int)\n",
    "\n",
    "#Squeeze and drop unecessary band \"band\"\n",
    "bii_subtract = bii_subtract.squeeze().drop('band')\n",
    "\n",
    "#replace nan values\n",
    "bii_subtract = bii_subtract.where(bii_subtract ==1, np.nan)\n"
   ]
  },
  {
   "cell_type": "markdown",
   "id": "ed19ad25-7459-4347-8de4-64c407b64900",
   "metadata": {},
   "source": [
    "# 5. Final Output\n",
    "\n",
    "This plot helps us to visualize the lost biodiversity area from 2017 - 2020"
   ]
  },
  {
   "cell_type": "code",
   "execution_count": null,
   "id": "c7f382f3-cce8-4f92-8d28-7a52f7ebeb3e",
   "metadata": {
    "tags": []
   },
   "outputs": [],
   "source": [
    "#create plot\n",
    "fig, ax = plt.subplots()\n",
    "\n",
    "#plot 2020 raster \n",
    "plot2020 = clip_2020.plot(ax=ax, cmap=\"Greens\", add_colorbar = False)\n",
    "cbar1 = plt.colorbar(plot2020, ax=ax, orientation=\"horizontal\", fraction=0.046, pad=0.1)\n",
    "cbar1.set_label(\"2020 BII\")\n",
    "\n",
    "#Rotate colorbar label\n",
    "cbar1.ax.yaxis.label.set_rotation(270)\n",
    "\n",
    "#plot subtract raster\n",
    "im2 = bii_subtract.plot(ax=ax, cmap=\"gist_heat\", add_colorbar=False)\n",
    "\n",
    "#create patch for subtract raster\n",
    "subtract_patches = mpatches.Patch(color= \"Red\", label = \"Area with BII >= 0.75 lost from 2017-2020\")\n",
    "\n",
    "#add subtract patch\n",
    "handles, labels = ax.get_legend_handles_labels()\n",
    "ax.legend(handles = [subtract_patches], frameon = False, loc = (0.15, -0.1))\n",
    "\n",
    "#turn off axis and add title\n",
    "ax.axis(\"off\")\n",
    "ax.set_title(\"Change in Biodiversity Intactness Index (BII) - Phoenix Subdivision\")\n",
    "\n",
    "plt.show()\n",
    "\n",
    "fig.savefig('images/biiphoenix.png')"
   ]
  }
 ],
 "metadata": {
  "kernelspec": {
   "display_name": "Python 3 (ipykernel)",
   "language": "python",
   "name": "python3"
  },
  "language_info": {
   "codemirror_mode": {
    "name": "ipython",
    "version": 3
   },
   "file_extension": ".py",
   "mimetype": "text/x-python",
   "name": "python",
   "nbconvert_exporter": "python",
   "pygments_lexer": "ipython3",
   "version": "3.11.4"
  }
 },
 "nbformat": 4,
 "nbformat_minor": 5
}
